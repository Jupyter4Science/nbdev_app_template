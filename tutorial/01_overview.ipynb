{
 "cells": [
  {
   "cell_type": "markdown",
   "id": "c6a117dd-fc6c-455b-98cb-7426da95c915",
   "metadata": {},
   "source": [
    "# Standalone Web Applications with Jupyter Notebooks"
   ]
  },
  {
   "cell_type": "markdown",
   "id": "38fbcff6-fe49-4f10-837a-de30983db9c0",
   "metadata": {},
   "source": [
    "## Motivation\n",
    "\n",
    "## Scope\n",
    "\n",
    "## Prerequisites\n",
    "\n",
    "## Key Concepts\n",
    "- Modularity\n",
    "- Component\n",
    "- ModelDelegate Design Pattern\n",
    "\n",
    "## Project Structure"
   ]
  },
  {
   "cell_type": "markdown",
   "id": "f7468771-f091-441c-bd03-4b9e42697101",
   "metadata": {},
   "source": [
    "## What we will learn\n",
    "\n",
    "- JupyterLab IDE\n",
    "    - debugger\n",
    "    - extensions\n",
    "    - vim bindings\n",
    "    - themes\n",
    "    \n",
    "- Templates\n",
    "    - Using\n",
    "    - Developing\n",
    "    \n",
    "- Development Environment\n",
    "    - literate programming with nbdev\n",
    "    - nbdev template\n",
    "    - maintaining reproducibile environment\n",
    "\n",
    "- Challenges and Limitations\n",
    "\n",
    "- Deployment\n",
    "\n",
    "- Sustainability\n",
    "    - passing back to the researcher\n",
    "    - CI/CD\n",
    "    - refactoring "
   ]
  },
  {
   "cell_type": "code",
   "execution_count": null,
   "id": "56e48c68-aa28-4111-b23d-c8f85448421a",
   "metadata": {},
   "outputs": [],
   "source": []
  }
 ],
 "metadata": {
  "kernelspec": {
   "display_name": "Python 3 (ipykernel)",
   "language": "python",
   "name": "python3"
  },
  "language_info": {
   "codemirror_mode": {
    "name": "ipython",
    "version": 3
   },
   "file_extension": ".py",
   "mimetype": "text/x-python",
   "name": "python",
   "nbconvert_exporter": "python",
   "pygments_lexer": "ipython3",
   "version": "3.10.2"
  }
 },
 "nbformat": 4,
 "nbformat_minor": 5
}

{
 "cells": [
  {
   "cell_type": "code",
   "execution_count": null,
   "id": "bdde85c0-5fbb-4992-abe2-740f279a062d",
   "metadata": {},
   "outputs": [
    {
     "data": {
      "application/vnd.jupyter.widget-view+json": {
       "model_id": "3e376442ab274305afddd8e139fba3d8",
       "version_major": 2,
       "version_minor": 0
      },
      "text/plain": [
       "Tab(children=(IntText(value=1, description='P1'), IntText(value=2, description='P2'), IntText(value=3, descrip…"
      ]
     },
     "metadata": {},
     "output_type": "display_data"
    }
   ],
   "source": [
    "from ipywidgets import Tab, IntText\n",
    "\n",
    "# Tabs are a great way to organize applications. We will create an application that\n",
    "# has four tabs. \n",
    "\n",
    "indices = range(1, 5)\n",
    "\n",
    "# Each tab will have one child: an `IntText`\n",
    "\n",
    "children = [IntText(value = i, description = 'P' + str(i)) for i in indices]\n",
    "titles = ['Tab' + str(i) for i in indices]\n",
    "\n",
    "# When we add child widgets, one is placed in each tab\n",
    "\n",
    "app = Tab(children = children, titles=titles)\n",
    "\n",
    "# You could replace the line below with `app` and it would work just the same. \n",
    "# Jupyter knows to display GUI objects with this shorthand. Try it!\n",
    "\n",
    "display(app)"
   ]
  },
  {
   "cell_type": "code",
   "execution_count": null,
   "id": "555dfe62-eb3d-4215-9608-0020378eff77",
   "metadata": {},
   "outputs": [],
   "source": []
  }
 ],
 "metadata": {
  "kernelspec": {
   "display_name": "Python 3 (ipykernel)",
   "language": "python",
   "name": "python3"
  }
 },
 "nbformat": 4,
 "nbformat_minor": 5
}

{
 "cells": [
  {
   "cell_type": "code",
   "execution_count": null,
   "id": "9b4bde18-8a20-44a0-bd4d-fa6cbeeca44f",
   "metadata": {},
   "outputs": [],
   "source": [
    "import ipywidgets as widgets"
   ]
  },
  {
   "cell_type": "code",
   "execution_count": null,
   "id": "95abef9d-76a1-47aa-af6b-66c4f0e89485",
   "metadata": {},
   "outputs": [],
   "source": [
    "PLOT_SETTINGS_SECTION_TITLE = 'Plot Settings'\n",
    "THEME = 'Theme'\n",
    "THEMES = ['onedork', 'grade3', 'oceans16', 'chesterish', 'monokai', 'solarizedl', 'solarizedd']\n",
    "CONTEXT = 'Context'\n",
    "CONTEXTS = ['paper', 'notebook', 'talk', 'poster']\n",
    "FONT_SCALE = 'Font Scale'\n",
    "SPINES = 'Spines'\n",
    "GRIDLINES = 'Gridlines'\n",
    "TICKS = 'Ticks'\n",
    "GRID = 'Grid'\n",
    "FIG_WIDTH = 'Width'\n",
    "FIG_HEIGHT = 'Height'\n",
    "APPLY = 'Apply'"
   ]
  },
  {
   "cell_type": "code",
   "execution_count": null,
   "id": "47e30a53-209f-43be-b341-97e52acce643",
   "metadata": {},
   "outputs": [],
   "source": [
    "class Settings(widgets.Accordion):\n",
    "\n",
    "    def __init__(self):\n",
    "        super().__init__()\n",
    "        \n",
    "        self.theme = widgets.Dropdown(description= THEME, options= THEMES)\n",
    "        self.context = widgets.Dropdown(description= CONTEXT, options= CONTEXTS)\n",
    "        self.fscale = widgets.FloatSlider(description= FONT_SCALE, value=1.4)\n",
    "        self.spines = widgets.Checkbox(description= SPINES, value=False)\n",
    "        self.gridlines = widgets.Text(description= GRIDLINES, value='--')\n",
    "        self.ticks = widgets.Checkbox(description= TICKS, value=True)\n",
    "        self.grid = widgets.Checkbox(description= GRID, value=False)\n",
    "        self.figsize1 = widgets.FloatSlider(description= FIG_WIDTH, value=6)\n",
    "        self.figsize2 = widgets.FloatSlider(description= FIG_HEIGHT, value=4.5)\n",
    "        self.apply = widgets.Button(description= APPLY)\n",
    "        \n",
    "        self.set_title(0, 'Plot Settings')\n",
    "        vbox = widgets.VBox(children = (self.theme, self.context, self.fscale, self.spines, self.gridlines,\n",
    "                             self.ticks, self.grid, self.figsize1, self.figsize2, self.apply))\n",
    "        self.children = (vbox, )"
   ]
  },
  {
   "cell_type": "code",
   "execution_count": null,
   "id": "7600b55b-088d-42f1-a899-4cf77b24e0ef",
   "metadata": {},
   "outputs": [
    {
     "data": {
      "application/vnd.jupyter.widget-view+json": {
       "model_id": "ef41d24849c94007a83d15b78169775d",
       "version_major": 2,
       "version_minor": 0
      },
      "text/plain": [
       "Settings(children=(VBox(children=(Dropdown(description='Theme', options=('onedork', 'grade3', 'oceans16', 'che…"
      ]
     },
     "metadata": {},
     "output_type": "display_data"
    }
   ],
   "source": [
    "settings = Settings()\n",
    "settings"
   ]
  },
  {
   "cell_type": "code",
   "execution_count": null,
   "id": "c4dc8e42-d7bc-4cf0-b11f-6ba353764d9e",
   "metadata": {},
   "outputs": [],
   "source": []
  }
 ],
 "metadata": {
  "kernelspec": {
   "display_name": "Python 3 (ipykernel)",
   "language": "python",
   "name": "python3"
  }
 },
 "nbformat": 4,
 "nbformat_minor": 5
}

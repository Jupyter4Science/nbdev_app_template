{
 "cells": [
  {
   "cell_type": "code",
   "execution_count": null,
   "id": "7c6f8f3b-b67b-47da-8fc4-5f0947a3df7d",
   "metadata": {},
   "outputs": [],
   "source": [
    "#default_exp main"
   ]
  },
  {
   "cell_type": "markdown",
   "id": "05efc980-4968-4f2f-96a5-59accbb7e75f",
   "metadata": {},
   "source": [
    "# Main Application"
   ]
  },
  {
   "cell_type": "code",
   "execution_count": null,
   "id": "e2e25dfe-f1cc-489d-bf15-59cefa81dc7a",
   "metadata": {},
   "outputs": [],
   "source": [
    "#export\n",
    "import ipywidgets as widgets\n",
    "from template_lib.welcome import WelcomeTab\n",
    "from template_lib.data import DataModel, DataTab, FILENAME\n",
    "from template_lib.selection import SelectionTab"
   ]
  },
  {
   "cell_type": "code",
   "execution_count": null,
   "id": "c5ad5e77-c5f8-4af1-bd33-83f3b7ae6e9c",
   "metadata": {},
   "outputs": [],
   "source": [
    "#export\n",
    "class Main(widgets.Tab):\n",
    "    \n",
    "    def __init__(self):\n",
    "        super().__init__()\n",
    "        \n",
    "        # initialize models\n",
    "        self.model = DataModel(FILENAME)\n",
    "        \n",
    "        # initialize views\n",
    "        self.welcome = WelcomeTab()\n",
    "        self.data = DataTab(self.model)\n",
    "        self.selection = SelectionTab(self.model)\n",
    "        \n",
    "        self.children = (self.welcome, self.data, self.selection)\n",
    "\n",
    "        self.set_title(0, 'Welcome')\n",
    "        self.set_title(1, 'Data')\n",
    "        self.set_title(2, 'Selection')"
   ]
  },
  {
   "cell_type": "code",
   "execution_count": null,
   "id": "56c41b6f-ce8c-41a8-a4eb-cd63e7a055b6",
   "metadata": {},
   "outputs": [
    {
     "data": {
      "application/vnd.jupyter.widget-view+json": {
       "model_id": "bb7fa86014f541568a99b6f2d17a962d",
       "version_major": 2,
       "version_minor": 0
      },
      "text/plain": [
       "Main(children=(WelcomeTab(children=(Accordion(children=(HTML(value=\"<p>\\n            In the <b>Data</b> tab ab…"
      ]
     },
     "metadata": {},
     "output_type": "display_data"
    }
   ],
   "source": [
    "main = Main()\n",
    "main"
   ]
  },
  {
   "cell_type": "code",
   "execution_count": null,
   "id": "2fb1a849-5ae8-4206-b513-6dcf74aaf212",
   "metadata": {},
   "outputs": [
    {
     "name": "stdout",
     "output_type": "stream",
     "text": [
      "Converted 00_welcome.ipynb.\n",
      "Converted 01_overview.ipynb.\n",
      "Converted 01_welcome.ipynb.\n",
      "Converted 02_data.ipynb.\n",
      "Converted 03_selection.ipynb.\n",
      "Converted 04_visualize.ipynb.\n",
      "Converted 05_settings.ipynb.\n",
      "Converted 06_main.ipynb.\n",
      "Converted APP.ipynb.\n",
      "Converted EXAMPLE_APP.ipynb.\n",
      "Converted logger.ipynb.\n",
      "Converted notebook.ipynb.\n",
      "Converted standalone_web_apps_with_voila.ipynb.\n"
     ]
    }
   ],
   "source": [
    "#hide\n",
    "from nbdev.export import notebook2script; notebook2script()"
   ]
  },
  {
   "cell_type": "code",
   "execution_count": null,
   "id": "2946f257-1d1a-438b-874e-1537565cc803",
   "metadata": {},
   "outputs": [],
   "source": []
  }
 ],
 "metadata": {
  "kernelspec": {
   "display_name": "Python 3 (ipykernel)",
   "language": "python",
   "name": "python3"
  }
 },
 "nbformat": 4,
 "nbformat_minor": 5
}

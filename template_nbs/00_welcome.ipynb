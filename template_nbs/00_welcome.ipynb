{
 "cells": [
  {
   "cell_type": "markdown",
   "id": "37b65a17",
   "metadata": {},
   "source": [
    "# Welcome\n",
    "\n",
    "> In this module, we will learn about ipywidgets and the MVC design pattern.\n"
   ]
  },
  {
   "cell_type": "markdown",
   "id": "221d2bed",
   "metadata": {},
   "source": [
    "## Prerequisite Knowledge\n",
    "\n",
    "To follow along with this tutorial, you will want to have exposure to Python and Object-Oriented Programming."
   ]
  },
  {
   "cell_type": "markdown",
   "id": "124a71c0",
   "metadata": {},
   "source": [
    "## Overview\n",
    "\n",
    "```\n",
    "Standalone Web Applications with Voila\n",
    "\n",
    "1 nbdev development environment\n",
    "1.1 Benefits and drawbacks\n",
    "1.2 Install jupyter (use docker-compose initial-build)\n",
    "1.2 Helpful Jupyter extensions (example Viola)\n",
    "1.3 jupyter-lab?\n",
    "1.4 Launch juypter\n",
    "2 Setting up your project\n",
    "2.1 Settings.ini and first build from terminal or notebook (this must be done before using docker-compose nbdev)\n",
    "2.2 Shutdown\n",
    "3 Build a Python module from Jupyter (LoggerSettings? something that gets used in dummy app, but is not the dummy app)\n",
    "3.1 MVC Widget\n",
    "3.2 Build module from terminal or notebook\n",
    "3.3 Build documentation\n",
    "4 Logger Tutorial\n",
    "5 Build APP from components\n",
    "```\n",
    "\n",
    "\n",
    "How to add a library you need to the environment and the docker env"
   ]
  },
  {
   "cell_type": "markdown",
   "id": "4b8609e5-d9db-4156-99dc-39b3f6a00d6f",
   "metadata": {},
   "source": [
    "## Quick Start"
   ]
  },
  {
   "cell_type": "code",
   "execution_count": null,
   "id": "e90482de-5dec-4fb6-bfdc-5b8020f483dc",
   "metadata": {},
   "outputs": [],
   "source": [
    "# TODO: use a settings component to let the user pick the name of their directory\n",
    "# then suggest that they can make further changes by openning settings.ini\n",
    "# create a symlink from nbs to lib\n",
    "# then nbdev_build_lib\n",
    "# then nbdev_build_docs\n",
    "# then launch a doc server listening for chages"
   ]
  }
 ],
 "metadata": {
  "kernelspec": {
   "display_name": "Python 3 (ipykernel)",
   "language": "python",
   "name": "python3"
  }
 },
 "nbformat": 4,
 "nbformat_minor": 5
}

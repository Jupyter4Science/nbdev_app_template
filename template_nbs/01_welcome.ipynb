{
 "cells": [
  {
   "cell_type": "markdown",
   "id": "c017af13-274b-4355-ab8d-fbf049ccbf38",
   "metadata": {},
   "source": [
    "# Welcome to the nbdev_app_template!\n",
    "\n",
    "You can read through this template like a book to learn how to create a web application with nbdev. nbdev allows us to write our code in Jupyter Notebooks, but then call the code later as Python modules. For example, the line below tells us that code cells that start with `#export` will end up in the python file `template_lib.welcome`."
   ]
  },
  {
   "cell_type": "code",
   "execution_count": null,
   "id": "c30973e2-41fd-4f50-bdf4-6bbb9f8487f6",
   "metadata": {},
   "outputs": [],
   "source": [
    "#default_exp welcome"
   ]
  },
  {
   "cell_type": "markdown",
   "id": "ba666fcb-92a9-4709-b3bd-73b1c382fbb4",
   "metadata": {},
   "source": [
    "Even import statements need to be exported to make it into the python module."
   ]
  },
  {
   "cell_type": "code",
   "execution_count": null,
   "id": "8ac75bdd-9fcb-4743-8277-7a5222fdd6bd",
   "metadata": {},
   "outputs": [],
   "source": [
    "#export\n",
    "import ipywidgets as widgets"
   ]
  },
  {
   "cell_type": "markdown",
   "id": "5891dea1-9d20-4107-a82d-0ebc57ebc1b0",
   "metadata": {},
   "source": [
    "Any cell without an export statement **will be** tested for errors when you compile your Notebooks into documentation, but they **will not** be exported into the python module. For example, any assertion statements that throw an error will be ignored when you compile your Jupyter notebooks to a python module with `nbdev_build_lib`. But these errors will show when you run `nbdev_test_nbs` or try and create a documentation site with `nbdev_build_docs`."
   ]
  },
  {
   "cell_type": "code",
   "execution_count": null,
   "id": "7ebe9a08-0ce4-4b84-978f-0a09717d8142",
   "metadata": {},
   "outputs": [],
   "source": [
    "assert True\n",
    "#assert False"
   ]
  },
  {
   "cell_type": "markdown",
   "id": "565c2253-aed5-445a-8ca6-e6cd1a5fca61",
   "metadata": {},
   "source": [
    "Okay! Let's make our first widget. It will be a simple Accordion that contains an informational message to the user. Let's start with the informational message."
   ]
  },
  {
   "cell_type": "code",
   "execution_count": null,
   "id": "012d9567-d32c-421b-a94f-8d724bc75f5f",
   "metadata": {},
   "outputs": [],
   "source": [
    "USING_TEXT = '''<p>\n",
    "    In the <b>Data</b> tab above, you can review the dataset.\n",
    "    In the <b>Selection</b> tab, you can search for and download data of interest.\n",
    "    Once you've selected data, generate plots in the <b>Visualize</b> tab.\n",
    "    </p>'''\n",
    "info_msg = widgets.HTML(USING_TEXT)"
   ]
  },
  {
   "cell_type": "markdown",
   "id": "4f3132ad-a444-4d46-9804-42b2d09f91f5",
   "metadata": {},
   "source": [
    "To display a widget, you can call `display(info_msg)` or you can just use the shorthand `info_msg`."
   ]
  },
  {
   "cell_type": "code",
   "execution_count": null,
   "id": "374b728e-4313-4471-aa24-35c2ca402f06",
   "metadata": {},
   "outputs": [],
   "source": [
    "info_msg"
   ]
  },
  {
   "cell_type": "markdown",
   "id": "334093ad-37f6-49aa-9db6-015d2c800ca3",
   "metadata": {},
   "source": [
    "Great, now lets frame it with an accordion, just to make it prettier."
   ]
  },
  {
   "cell_type": "code",
   "execution_count": null,
   "id": "54a65cdf-9701-4381-836c-2a73269b28cd",
   "metadata": {},
   "outputs": [],
   "source": [
    "acc = widgets.Accordion()\n",
    "acc.set_title(0, 'Using this App')\n",
    "acc.children = (info_msg, )"
   ]
  },
  {
   "cell_type": "code",
   "execution_count": null,
   "id": "4b7a0cfe-3ade-431f-9d9e-0eb2123518b3",
   "metadata": {},
   "outputs": [],
   "source": [
    "display(acc) # or just `acc`, up to you"
   ]
  },
  {
   "cell_type": "markdown",
   "id": "8e997be1-ac58-402f-b37b-81162256ddca",
   "metadata": {},
   "source": [
    "Okay! Lets build our first component by extending an ipywidget object. This will allow us to build complex widgets that are composible. You will see below that the box object will contain two Accordion widgets, each of which contain an HTML widget. If we ever wanted to repeat this VBox anywhere, we could because it is an object. So we can make as many instances of it as we need without copy-pasting.\n",
    "\n",
    "But take heed - if you forget to call the superconstructor with the line `super().__init__()`, you will get an **AttributeError**: 'Welcome' object has no attribute '_model_id'"
   ]
  },
  {
   "cell_type": "code",
   "execution_count": null,
   "id": "0292327c-3d93-4658-b720-774390da2fe9",
   "metadata": {},
   "outputs": [],
   "source": [
    "#export\n",
    "class WelcomeTab(widgets.VBox):\n",
    "    \n",
    "    def __init__(self):\n",
    "        # If you forget to call the superconstructor on an extended widget\n",
    "        # you will get an AttributeError: object has no attribute '_model_id'\n",
    "        super().__init__()\n",
    "        \n",
    "        # Using Accordion\n",
    "        # Create accordion containing HTML content\n",
    "        self.using_acc = widgets.Accordion()\n",
    "        self.using_acc.set_title(0, 'Using this App')\n",
    "        USING_TEXT = '''<p>\n",
    "            In the <b>Data</b> tab above, you can review the dataset.\n",
    "            In the <b>Selection</b> tab, you can search for and download data of interest.\n",
    "            Once you've selected data, generate plots in the <b>Visualize</b> tab.\n",
    "            </p>'''\n",
    "        self.using_body = widgets.HTML(USING_TEXT)\n",
    "        self.using_acc.children = (self.using_body, )\n",
    "        \n",
    "        # Data Souces Accordion\n",
    "        # Create accordion containing HTML content\n",
    "        self.sources_acc = widgets.Accordion()\n",
    "        self.sources_acc.set_title(0, 'Data Sources')\n",
    "        SOURCES_TEXT = '''<p>\n",
    "            <b>Land-Ocean Temperature Index</b>\n",
    "            <a href=\"https://climate.nasa.gov/vital-signs/global-temperature/\"\n",
    "            target=\"_blank\">Global Temperature (NASA)</a>\n",
    "            ,\n",
    "            <a href=\"https://data.giss.nasa.gov/gistemp/\"\n",
    "            target=\"_blank\">GISS Surface Temperature Analysis (NASA)</a>\n",
    "            </p><p>\n",
    "            This site is based on data downloaded from the following site on 2020-07-14:\n",
    "            <a href=\"https://data.giss.nasa.gov/gistemp/graphs/graph_data/Global_Mean_Estimates_based_on_Land_and_Ocean_Data/graph.txt\"  # noqa\n",
    "            target=\"_blank\">Global Mean Estimates based on Land_and Ocean Data (NASA)</a>\n",
    "            </p>'''\n",
    "        self.sources_body = widgets.HTML(SOURCES_TEXT)\n",
    "        self.sources_acc.children = (self.sources_body, )\n",
    "        \n",
    "        self.children = (self.using_acc, self.sources_acc)"
   ]
  },
  {
   "cell_type": "code",
   "execution_count": null,
   "id": "3b179589-bcb1-4581-8cd5-3d505a460bf9",
   "metadata": {},
   "outputs": [],
   "source": [
    "welcome = WelcomeTab()\n",
    "welcome"
   ]
  },
  {
   "cell_type": "code",
   "execution_count": null,
   "id": "2b55790d-0e28-4813-8d70-fa87fa3746ac",
   "metadata": {},
   "outputs": [],
   "source": [
    "#hide\n",
    "from nbdev.export import notebook2script; notebook2script()"
   ]
  },
  {
   "cell_type": "code",
   "execution_count": null,
   "id": "84876143-7f71-46ea-a5c6-566b83ba8a54",
   "metadata": {},
   "outputs": [],
   "source": []
  }
 ],
 "metadata": {
  "kernelspec": {
   "display_name": "Python 3 (ipykernel)",
   "language": "python",
   "name": "python3"
  }
 },
 "nbformat": 4,
 "nbformat_minor": 5
}

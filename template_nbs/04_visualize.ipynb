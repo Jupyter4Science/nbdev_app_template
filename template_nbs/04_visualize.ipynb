{
 "cells": [
  {
   "cell_type": "code",
   "execution_count": null,
   "id": "61925d8e-99ed-4e91-b458-884255df1d04",
   "metadata": {},
   "outputs": [],
   "source": [
    "import ipywidgets as widgets"
   ]
  },
  {
   "cell_type": "code",
   "execution_count": null,
   "id": "94c72793-ae71-4680-83a2-e10d22bd8628",
   "metadata": {},
   "outputs": [],
   "source": [
    "NOTE_TITLE = 'Note'\n",
    "NOTE_TEXT = 'The plot is based on results from the Selection tab.'\n",
    "PLOT_TITLE = 'Plot'\n",
    "PLOT_LABEL = 'Select data field'"
   ]
  },
  {
   "cell_type": "code",
   "execution_count": null,
   "id": "0b3f67ed-2ba6-4805-88d1-783e805580f8",
   "metadata": {},
   "outputs": [],
   "source": [
    "class Visualize(widgets.VBox):\n",
    "    \n",
    "    def __init__(self):\n",
    "        super().__init__()\n",
    "        \n",
    "        # Note\n",
    "        ## child widgets\n",
    "        self.note_text =  widgets.HTML(NOTE_TEXT)\n",
    "        \n",
    "        ## create accordion and add children\n",
    "        self.note_acc = widgets.Accordion(children = (self.note_text, ))\n",
    "        self.note_acc.set_title(0, 'Note')\n",
    "        \n",
    "        # Plot Title\n",
    "        \n",
    "        self._text = widgets.HTML(value = PLOT_LABEL)\n",
    "        self.spacer = widgets.Label(value='', layout = widgets.Layout(widget='60%'))\n",
    "        self.text = widgets.HBox(children = (self._text, self.spacer))\n",
    "        self.ddn = widgets.Dropdown(options=[''], value=None, disabled=True)\n",
    "        self.plot_output = widgets.Output()\n",
    "        ## create accordion and children\n",
    "        self.vbox = widgets.VBox(children = (self.text, self.ddn, self.plot_output))\n",
    "        self.plot_acc = widgets.Accordion(children = (self.vbox, ))\n",
    "            \n",
    "        self.children = (self.note_acc, self.plot_acc)"
   ]
  },
  {
   "cell_type": "code",
   "execution_count": null,
   "id": "cafbc390-324b-43d8-8b3a-1b744ac93e5b",
   "metadata": {},
   "outputs": [
    {
     "data": {
      "application/vnd.jupyter.widget-view+json": {
       "model_id": "1092b0fde1a146e98afbf99c3143fb3e",
       "version_major": 2,
       "version_minor": 0
      },
      "text/plain": [
       "Visualize(children=(Accordion(children=(HTML(value='The plot is based on results from the Selection tab.'),), …"
      ]
     },
     "metadata": {},
     "output_type": "display_data"
    }
   ],
   "source": [
    "visualize = Visualize()\n",
    "visualize"
   ]
  },
  {
   "cell_type": "code",
   "execution_count": null,
   "id": "34df49e5-1e00-473d-b736-6ba7051ada43",
   "metadata": {},
   "outputs": [],
   "source": []
  }
 ],
 "metadata": {
  "kernelspec": {
   "display_name": "Python 3 (ipykernel)",
   "language": "python",
   "name": "python3"
  }
 },
 "nbformat": 4,
 "nbformat_minor": 5
}

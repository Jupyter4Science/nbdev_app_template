{
 "cells": [
  {
   "cell_type": "code",
   "execution_count": null,
   "id": "8ab2ac87-e056-4340-b933-08a7c59524a7",
   "metadata": {},
   "outputs": [],
   "source": [
    "#default_exp selection"
   ]
  },
  {
   "cell_type": "markdown",
   "id": "51fd4009-50ba-4a36-83f4-f36f5de6be93",
   "metadata": {},
   "source": [
    "# Data Selection"
   ]
  },
  {
   "cell_type": "code",
   "execution_count": null,
   "id": "09696bf0-baf1-4b4a-952a-f2b247a65997",
   "metadata": {},
   "outputs": [],
   "source": [
    "#export\n",
    "import ipywidgets as widgets\n",
    "import traitlets\n",
    "from traitlets import Int, List, observe\n",
    "from template_lib.data import DataModel, FILENAME, DataDelegate\n",
    "from IPython.display import clear_output, FileLink\n",
    "\n",
    "import logging\n",
    "logger = logging.getLogger()"
   ]
  },
  {
   "cell_type": "code",
   "execution_count": null,
   "id": "7d06f908-260b-452c-ace9-0f8fbf2379d2",
   "metadata": {},
   "outputs": [],
   "source": [
    "#export\n",
    "CRITERIA_TITLE = 'Selection Criteria'\n",
    "CRITERIA_APPLY = 'Filter'\n",
    "OUTPUT_TITLE = 'Results'\n",
    "OUTPUT_PRE = 'Limit to '\n",
    "OUTPUT_POST = 'lines'\n",
    "EXPORT_TITLE = 'Export'\n",
    "EXPORT_BUTTON = 'Download'\n",
    "START_YEAR = 'From Year'\n",
    "END_YEAR = 'To Year'\n",
    "EXPORT_LINK_PROMPT = \"Click here to save file: \""
   ]
  },
  {
   "cell_type": "code",
   "execution_count": null,
   "id": "29b365a0-24aa-4101-b643-171a468b116c",
   "metadata": {},
   "outputs": [],
   "source": [
    "data = DataModel(FILENAME)\n",
    "data._trait_values"
   ]
  },
  {
   "cell_type": "code",
   "execution_count": null,
   "id": "6c0029c6-d2cd-4e50-881c-d8a7bc5d4447",
   "metadata": {},
   "outputs": [],
   "source": [
    "#export\n",
    "class FilterView(widgets.Accordion):\n",
    "    \n",
    "    def __init__(self):\n",
    "        super().__init__()\n",
    "        \n",
    "        self.set_title(0, 'Selection Criteria')\n",
    "        self.lo20 = widgets.Layout(width='20%')\n",
    "        \n",
    "        self.start_year = widgets.Dropdown(description= START_YEAR)\n",
    "        self.end_year = widgets.Dropdown(description= END_YEAR)\n",
    "        \n",
    "        self.filter_btn_apply = widgets.Button(description= CRITERIA_APPLY, icon='filter',\n",
    "                                               layout=self.lo20)\n",
    "        self.invalid = widgets.HTML(value = f\"<b><font color='red'>End year must be greater or equal to start year.</b>\")\n",
    "        hbox = widgets.HBox(children=(self.filter_btn_apply, self.invalid))\n",
    "        \n",
    "        self.vbox = widgets.VBox(children = (self.start_year, self.end_year, hbox))\n",
    "        self.children = (self.vbox, )"
   ]
  },
  {
   "cell_type": "code",
   "execution_count": null,
   "id": "f25899e8-32cb-41f6-9214-c895ee472209",
   "metadata": {},
   "outputs": [],
   "source": [
    "filterView = FilterView()\n",
    "filterView"
   ]
  },
  {
   "cell_type": "code",
   "execution_count": null,
   "id": "ea9c3d6b-1319-4479-b806-a57040e2ddaa",
   "metadata": {},
   "outputs": [],
   "source": [
    "#export\n",
    "class FilterDelegate(FilterView):\n",
    "    \n",
    "    def __init__(self, model=None):\n",
    "        super().__init__()\n",
    "        if model:\n",
    "            self.initialize(model)\n",
    "        \n",
    "    def initialize(self, model):\n",
    "        self.model = model\n",
    "        self.start_year.options = [i for i in range(self.model.min_year, self.model.max_year +1)]\n",
    "        self.end_year.options = [i for i in range(self.model.min_year, self.model.max_year + 1)]\n",
    "        traitlets.link((self.model, 'end_year'), (self.end_year, 'value'))\n",
    "        traitlets.link((self.model, 'start_year'), (self.start_year, 'value'))\n",
    "        self.invalid.layout.visibility = 'hidden'\n",
    "        \n",
    "        # the 'value' parameter below is important. If you don't specify it,\n",
    "        # you may get a KeyError because you are accidentally observing events\n",
    "        # of type _property_lock\n",
    "        self.start_year.observe(self.observe_start_year, 'value')\n",
    "        self.end_year.observe(self.observe_end_year, 'value')\n",
    "        self.filter_btn_apply.on_click(self.on_button_click)\n",
    "        \n",
    "    def observe_start_year(self, change):\n",
    "        self.model.start_year = change['new']\n",
    "        self.valid_years()\n",
    "        \n",
    "    def observe_end_year(self, change):\n",
    "        self.model.end_year = change['new']\n",
    "        self.valid_years()\n",
    "    \n",
    "    def on_button_click(self, btn):\n",
    "        if self.valid_years():\n",
    "            self.model.filter_data()\n",
    "            \n",
    "    def valid_years(self):\n",
    "        if self.model.start_year > self.model.end_year:\n",
    "            self.invalid.layout.visibility = 'visible'\n",
    "            return False\n",
    "        else:\n",
    "            self.invalid.layout.visibility = 'hidden'\n",
    "            return True"
   ]
  },
  {
   "cell_type": "code",
   "execution_count": null,
   "id": "533c7de2-bf25-4301-af6b-94c04b593a28",
   "metadata": {},
   "outputs": [],
   "source": [
    "dataModel = DataModel(FILENAME)\n",
    "filterDelegate = FilterDelegate(dataModel)\n",
    "filterDelegate"
   ]
  },
  {
   "cell_type": "code",
   "execution_count": null,
   "id": "12b2bf12-69ce-4c24-b28c-277f89ec94ee",
   "metadata": {},
   "outputs": [],
   "source": [
    "#export\n",
    "class ResultsDelegate(widgets.Accordion):\n",
    "    \n",
    "    def __init__(self, model=None):\n",
    "        super().__init__()\n",
    "        self.set_title(0, 'Results')\n",
    "        if model:\n",
    "            self.initialize(model)\n",
    "        \n",
    "    def initialize(self, model):\n",
    "        self.model = model\n",
    "        self.data = DataDelegate(model)\n",
    "        self.children = (self.data, )"
   ]
  },
  {
   "cell_type": "code",
   "execution_count": null,
   "id": "ba0dfd3e-d10b-469c-be14-7aba4578bfb6",
   "metadata": {},
   "outputs": [],
   "source": [
    "results = ResultsDelegate(dataModel)\n",
    "results"
   ]
  },
  {
   "cell_type": "code",
   "execution_count": null,
   "id": "63d5dba7-e244-4b17-bc0f-1575de3a2d9f",
   "metadata": {},
   "outputs": [],
   "source": [
    "#export\n",
    "class ExportView(widgets.Accordion):\n",
    "    \n",
    "    def __init__(self):\n",
    "        super().__init__()\n",
    "        self.set_title(0, 'Export')\n",
    "        self.lo20 = widgets.Layout(width='20%')\n",
    "                       \n",
    "        ## child widgets\n",
    "        self.filter_output = widgets.Output()\n",
    "        self.filter_btn_refexp = widgets.Button(description= EXPORT_BUTTON, icon='download', layout=self.lo20)\n",
    "        self.filter_out_export = widgets.Output(layout={'border': '1px solid black'})\n",
    "\n",
    "        vbox = widgets.VBox(children=(self.filter_btn_refexp, self.filter_out_export))\n",
    "        self.children = (vbox, )"
   ]
  },
  {
   "cell_type": "code",
   "execution_count": null,
   "id": "37534a99-2e3e-421c-8b65-1552d30c563e",
   "metadata": {},
   "outputs": [],
   "source": [
    "exportView = ExportView()\n",
    "exportView"
   ]
  },
  {
   "cell_type": "code",
   "execution_count": null,
   "id": "04f15f1e-4ee2-46eb-81bb-9da67a9a1a37",
   "metadata": {},
   "outputs": [],
   "source": [
    "#export\n",
    "class ExportDelegate(ExportView):\n",
    "    \n",
    "    def __init__(self, model = None):\n",
    "        super().__init__()\n",
    "        if model:\n",
    "            self.initialize(model)\n",
    "            \n",
    "        self.filter_btn_refexp.on_click(self.observe_download_btn)\n",
    "        \n",
    "    def initialize(self, model):\n",
    "        self.model = model\n",
    "    \n",
    "    def observe_download_btn(self, btn):\n",
    "        filename = self.model.create_download_file()\n",
    "        with self.filter_out_export:\n",
    "            clear_output(wait=True)\n",
    "            display(FileLink(filename, result_html_prefix=EXPORT_LINK_PROMPT))"
   ]
  },
  {
   "cell_type": "code",
   "execution_count": null,
   "id": "c6e3a5bf-3188-49bd-b2c9-e35911874446",
   "metadata": {},
   "outputs": [],
   "source": [
    "exportDelegate = ExportDelegate(dataModel)\n",
    "exportDelegate"
   ]
  },
  {
   "cell_type": "code",
   "execution_count": null,
   "id": "d8bd7ae9-82d0-4ab1-a21f-1fef085d62b1",
   "metadata": {},
   "outputs": [],
   "source": [
    "#export\n",
    "class SelectionTab(widgets.VBox):\n",
    "    \n",
    "    def __init__(self, model):\n",
    "        super().__init__()\n",
    "        self.model = model\n",
    "        \n",
    "        self.filter_acc = FilterDelegate(model)\n",
    "        self.filter_acc.filter_btn_apply.on_click(self.observe_filter)\n",
    "        \n",
    "        self.results_acc = ResultsDelegate(model)\n",
    "        self.export_acc = ExportDelegate(model)\n",
    "        # Add all accordions to section tab (self)\n",
    "        self.children = (self.filter_acc, self.results_acc, self.export_acc)\n",
    "    \n",
    "    def observe_filter(self, btn):\n",
    "        self.results_acc.data.display_data()"
   ]
  },
  {
   "cell_type": "code",
   "execution_count": null,
   "id": "abdcf24f-8b9e-482d-a01b-f2605296641a",
   "metadata": {},
   "outputs": [],
   "source": [
    "selectionTab = SelectionTab(dataModel)\n",
    "selectionTab"
   ]
  },
  {
   "cell_type": "code",
   "execution_count": null,
   "id": "644c5117-488c-4547-b7ae-d1df91d6a39b",
   "metadata": {},
   "outputs": [],
   "source": [
    "#hide\n",
    "from nbdev.export import notebook2script; notebook2script()"
   ]
  },
  {
   "cell_type": "code",
   "execution_count": null,
   "id": "daa94d76-cfe0-4d79-b42f-a76d9af0c093",
   "metadata": {},
   "outputs": [],
   "source": []
  }
 ],
 "metadata": {
  "kernelspec": {
   "display_name": "Python 3 (ipykernel)",
   "language": "python",
   "name": "python3"
  }
 },
 "nbformat": 4,
 "nbformat_minor": 5
}

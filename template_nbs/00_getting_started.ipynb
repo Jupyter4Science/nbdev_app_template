{
 "cells": [
  {
   "cell_type": "markdown",
   "id": "c61962d5-e473-40f0-9137-a7f1870b43d2",
   "metadata": {},
   "source": [
    "# Getting Started"
   ]
  },
  {
   "cell_type": "markdown",
   "id": "32654573-8d67-4427-8ad8-ac654a69ffb5",
   "metadata": {},
   "source": [
    "## Project Structure"
   ]
  },
  {
   "cell_type": "markdown",
   "id": "250bba0f-d70c-445f-9d7c-43b0cacc4788",
   "metadata": {},
   "source": [
    "Let's inspect the contents of this repository."
   ]
  },
  {
   "cell_type": "code",
   "execution_count": null,
   "id": "03882328-71b7-4c4d-9d9f-22095d20f487",
   "metadata": {},
   "outputs": [],
   "source": [
    "%ls .."
   ]
  },
  {
   "cell_type": "markdown",
   "id": "c998263d-cc2c-4732-8696-f7f384f817b3",
   "metadata": {},
   "source": [
    "This notebook you are currently reading can be found in `template_nbs/`. This notebook doesn't contain any code that need be included in a python module. We know this because the first code cell doesn't start with the line `#default_exp <module_name>`. So it will be ignored by nbdev when we convert. Howeve"
   ]
  },
  {
   "cell_type": "markdown",
   "id": "4e41b4c9-7fe9-44e9-9618-095f8a72c8e4",
   "metadata": {},
   "source": [
    "However when we do convert notebooks that contain exported code cells, that code will end up in the module `<module_name>`. These modules are contained in the `template_lib` library, which can be located among the directories listed above."
   ]
  },
  {
   "cell_type": "code",
   "execution_count": null,
   "id": "ea63a9c7-a2dc-4558-82bc-f39d164fbe10",
   "metadata": {},
   "outputs": [],
   "source": [
    "%ls ../template_lib"
   ]
  },
  {
   "cell_type": "markdown",
   "id": "0ae98515",
   "metadata": {},
   "source": [
    "## Convert Jupyter to Python with nbdev\n",
    "\n",
    "This can be achieved in Python from the notebook itself..."
   ]
  },
  {
   "cell_type": "code",
   "execution_count": null,
   "id": "850addf8",
   "metadata": {},
   "outputs": [],
   "source": [
    "from nbdev.export import notebook2script; notebook2script()"
   ]
  },
  {
   "cell_type": "markdown",
   "id": "1d1afa9c-8d46-4d21-a467-bc81ab9dd912",
   "metadata": {},
   "source": [
    "...or from a terminal."
   ]
  },
  {
   "cell_type": "code",
   "execution_count": null,
   "id": "13e9fc63",
   "metadata": {},
   "outputs": [],
   "source": [
    "%%bash\n",
    "\n",
    "nbdev_build_lib"
   ]
  },
  {
   "cell_type": "markdown",
   "id": "98af7e85-6662-49d3-a671-f58134e18975",
   "metadata": {},
   "source": [
    "You will usually want to add this Python line at the bottom of every notebook, so every time it is reloaded and re-executed, the code will be converted and up-to-date."
   ]
  },
  {
   "cell_type": "markdown",
   "id": "d255fac6-176e-4af3-a972-96019654447c",
   "metadata": {},
   "source": [
    "## End Game"
   ]
  },
  {
   "cell_type": "markdown",
   "id": "bc1956aa-c6cc-4e87-bf34-0cc47f2789ee",
   "metadata": {},
   "source": [
    "Our goal is for you to be able to adapt template Notebooks or import modules from `template_lib` to create your own web application. But first you will read through the numbered template notebooks to learn the basics.\n",
    "\n",
    "Let's get started by looking at template application that results from `template_lib`."
   ]
  },
  {
   "cell_type": "code",
   "execution_count": null,
   "id": "6bfa3092-6ff5-4016-aefe-7322cdbb71a0",
   "metadata": {},
   "outputs": [],
   "source": [
    "from template_lib.main import Main"
   ]
  },
  {
   "cell_type": "code",
   "execution_count": null,
   "id": "b8a994ae",
   "metadata": {},
   "outputs": [],
   "source": [
    "main = Main()\n",
    "main"
   ]
  },
  {
   "cell_type": "markdown",
   "id": "133882a3-2168-4fa1-8e6f-1dee40f1a07b",
   "metadata": {},
   "source": [
    "... and voila! We have ourselves an interactive web application. Try filtering some data and creating csv file. (You can click on the link to open it; it will be ignored by git)"
   ]
  },
  {
   "cell_type": "code",
   "execution_count": null,
   "id": "fca793c7-4193-4631-a05d-6490af6cadb1",
   "metadata": {},
   "outputs": [],
   "source": []
  }
 ],
 "metadata": {
  "kernelspec": {
   "display_name": "Python 3 (ipykernel)",
   "language": "python",
   "name": "python3"
  }
 },
 "nbformat": 4,
 "nbformat_minor": 5
}

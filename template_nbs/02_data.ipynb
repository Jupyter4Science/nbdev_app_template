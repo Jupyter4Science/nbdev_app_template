{
 "cells": [
  {
   "cell_type": "code",
   "execution_count": null,
   "id": "b93a1501-3a57-4bc4-aebc-3ccdd43232f2",
   "metadata": {},
   "outputs": [],
   "source": [
    "#default_exp data"
   ]
  },
  {
   "cell_type": "code",
   "execution_count": null,
   "id": "e95fe1a4-41c3-4f81-a677-9a19c0d7d0f8",
   "metadata": {},
   "outputs": [],
   "source": [
    "#export\n",
    "from IPython.display import display, clear_output\n",
    "import glob, csv\n",
    "import ipywidgets as widgets\n",
    "from traitlets import HasTraits, Int\n",
    "import pandas as pd\n",
    "import os\n",
    "import logging\n",
    "logger = logging.getLogger()"
   ]
  },
  {
   "cell_type": "code",
   "execution_count": null,
   "id": "bb259981-86a1-4e50-aaea-8ab0fc95685e",
   "metadata": {},
   "outputs": [],
   "source": [
    "#export\n",
    "DATA_DIR = '../data' # TODO: symlink? \n",
    "DATA_FILE = 'loti.csv'\n",
    "DOWNLOAD_DATA_NAME = 'loti-download'\n",
    "FLOAT_FORMAT = '0,.4f'\n",
    "FILENAME = os.path.join(DATA_DIR, DATA_FILE)"
   ]
  },
  {
   "cell_type": "code",
   "execution_count": null,
   "id": "fc2a33ce-1dce-489e-8b8b-af2058619cb2",
   "metadata": {},
   "outputs": [],
   "source": [
    "#export\n",
    "class DataModel(HasTraits):\n",
    "    \n",
    "    min_year = Int()\n",
    "    max_year = Int()\n",
    "    start_year = Int()\n",
    "    end_year = Int()\n",
    "    \n",
    "    def __init__(self, filename):\n",
    "        super().__init__()\n",
    "        \n",
    "        # Load data into memory from file\n",
    "        self.data = pd.read_csv(filename, escapechar='#')\n",
    "        self.headers = list(self.data.columns.values)\n",
    "        self.min_year = min(self.data[self.data.columns[0]])\n",
    "        self.max_year = max(self.data[self.data.columns[0]])\n",
    "        self.start_year = self.min_year\n",
    "        self.end_year = self.max_year\n",
    "        self.results = None\n",
    "        \n",
    "    def filter_data(self):\n",
    "        \"\"\"Use selection criteria to filter the data\"\"\"\n",
    "        \n",
    "        self.results = self.data[(self.data[self.headers[0]] >= self.start_year) &\n",
    "                                       (self.data[self.headers[0]] <= self.end_year)]\n",
    "        self.num_results = self.results.shape[0]\n",
    "        \n",
    "    def create_download_file(self):\n",
    "        \"\"\"Prep data for export.\"\"\"\n",
    "\n",
    "        # First, to save space, delete existing download file(s)\n",
    "        for filename in glob.glob(DOWNLOAD_DATA_NAME + '.*'):\n",
    "            os.remove(filename)\n",
    "\n",
    "        filename = DOWNLOAD_DATA_NAME + '.csv'\n",
    "        self.results.to_csv(filename, index=False, quoting=csv.QUOTE_NONNUMERIC)\n",
    "\n",
    "        return filename"
   ]
  },
  {
   "cell_type": "code",
   "execution_count": null,
   "id": "06e1f60c-ec47-4c5c-9805-a185c927d9b9",
   "metadata": {},
   "outputs": [],
   "source": [
    "dataModel = DataModel(FILENAME)\n",
    "dataModel._trait_values"
   ]
  },
  {
   "cell_type": "code",
   "execution_count": null,
   "id": "59084b92-a517-4b35-bb40-154929e50cbf",
   "metadata": {},
   "outputs": [],
   "source": [
    "dataModel.filter_data()\n",
    "dataModel.create_download_file()"
   ]
  },
  {
   "cell_type": "code",
   "execution_count": null,
   "id": "02483a7f-eb0c-4720-b6bf-47ee899a8829",
   "metadata": {},
   "outputs": [],
   "source": [
    "#export\n",
    "class DataView(widgets.Output):\n",
    "        \n",
    "    def __init__(self):\n",
    "        super().__init__()\n",
    "        layout = {\n",
    "            'overflow': 'scroll',\n",
    "            'max_height': '400px',\n",
    "            'max_width': '300px'\n",
    "        }\n",
    "        self.layout = widgets.Layout(**layout)"
   ]
  },
  {
   "cell_type": "code",
   "execution_count": null,
   "id": "1578ba31-5092-42d4-84ef-3ffff0e61fef",
   "metadata": {},
   "outputs": [],
   "source": [
    "dataView = DataView()\n",
    "dataView"
   ]
  },
  {
   "cell_type": "code",
   "execution_count": null,
   "id": "087977ed-6ec3-4bba-a5e3-10094e046d0d",
   "metadata": {},
   "outputs": [],
   "source": [
    "#export\n",
    "class DataDelegate(DataView):\n",
    "\n",
    "    def __init__(self, model=None, wide=False):\n",
    "        super().__init__()\n",
    "        self.wide = wide\n",
    "        if model:\n",
    "            self.initialize(model)\n",
    "            \n",
    "    def initialize(self, model):\n",
    "        self.model = model\n",
    "        self.display_data()\n",
    "        \n",
    "    def _ipython_display_(self):\n",
    "        \"\"\"the function that is envoked when `display` is called with a DataDelegate parameter\"\"\"\n",
    "        super()._ipython_display_()\n",
    "            \n",
    "    def display_data(self):\n",
    "        self.clear_output()\n",
    "        self.set_display()\n",
    "        with self:\n",
    "            if self.model.results is not None:\n",
    "                display(self.model.results)\n",
    "            else:\n",
    "                display(self.model.data)\n",
    "            \n",
    "    def set_display(self):\n",
    "        \"\"\"Prep Pandas to display specific number of data lines.\"\"\"\n",
    "        with self:\n",
    "            pd.set_option('display.width', 1000)# Prevent data desc line breaking\n",
    "            pd.set_option('display.max_rows', self.model.data.shape[0] + 1)\n",
    "            if self.wide:\n",
    "                pd.set_option('display.float_format', lambda x: format(x, FLOAT_FORMAT))"
   ]
  },
  {
   "cell_type": "code",
   "execution_count": null,
   "id": "80906233-8d9b-4525-8c09-635bf66b7b7e",
   "metadata": {},
   "outputs": [],
   "source": [
    "dataDelegate = DataDelegate(dataModel)\n",
    "dataDelegate"
   ]
  },
  {
   "cell_type": "code",
   "execution_count": null,
   "id": "a09b45a8-d66b-4ed6-80cb-658699f19d99",
   "metadata": {},
   "outputs": [],
   "source": [
    "#export\n",
    "class DataTab(widgets.Accordion):\n",
    "    \n",
    "    def __init__(self, dataModel):\n",
    "        super().__init__()\n",
    "        self.set_title(0, 'Data')\n",
    "        self.data = DataDelegate(dataModel)\n",
    "        self.children = (self.data, )"
   ]
  },
  {
   "cell_type": "code",
   "execution_count": null,
   "id": "a69f6c33-1a2a-4b67-aea7-43ead6bde18a",
   "metadata": {},
   "outputs": [],
   "source": [
    "acc = DataTabContent(dataModel)\n",
    "acc"
   ]
  },
  {
   "cell_type": "code",
   "execution_count": null,
   "id": "88b13577-61fe-4dc7-a439-f7cad4499642",
   "metadata": {},
   "outputs": [],
   "source": [
    "#hide\n",
    "from nbdev.export import notebook2script; notebook2script()"
   ]
  },
  {
   "cell_type": "code",
   "execution_count": null,
   "id": "e3b9d01c-a72f-42fc-ba9f-4c0ef01c9538",
   "metadata": {},
   "outputs": [],
   "source": []
  },
  {
   "cell_type": "code",
   "execution_count": null,
   "id": "1290bfce-de30-4413-831b-54532a3c7442",
   "metadata": {},
   "outputs": [],
   "source": []
  }
 ],
 "metadata": {
  "kernelspec": {
   "display_name": "Python 3 (ipykernel)",
   "language": "python",
   "name": "python3"
  }
 },
 "nbformat": 4,
 "nbformat_minor": 5
}

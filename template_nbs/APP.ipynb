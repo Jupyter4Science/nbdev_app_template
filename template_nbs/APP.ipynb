{
 "cells": [
  {
   "cell_type": "markdown",
   "id": "0ae98515",
   "metadata": {},
   "source": [
    "## How to convert your notebooks to a python module"
   ]
  },
  {
   "cell_type": "code",
   "execution_count": null,
   "id": "850addf8",
   "metadata": {},
   "outputs": [],
   "source": [
    "# From python\n"
   ]
  },
  {
   "cell_type": "code",
   "execution_count": null,
   "id": "13e9fc63",
   "metadata": {},
   "outputs": [],
   "source": [
    "%%bash\n",
    "\n",
    "# From terminal\n",
    "nbdev_build_lib"
   ]
  },
  {
   "cell_type": "code",
   "execution_count": null,
   "id": "23fbf92f",
   "metadata": {},
   "outputs": [],
   "source": [
    "#from your_module.main import Main"
   ]
  },
  {
   "cell_type": "code",
   "execution_count": null,
   "id": "47d99c21",
   "metadata": {},
   "outputs": [],
   "source": []
  },
  {
   "cell_type": "code",
   "execution_count": null,
   "id": "b8a994ae",
   "metadata": {},
   "outputs": [],
   "source": [
    "main = Main()"
   ]
  }
 ],
 "metadata": {
  "kernelspec": {
   "display_name": "Python 3 (ipykernel)",
   "language": "python",
   "name": "python3"
  }
 },
 "nbformat": 4,
 "nbformat_minor": 5
}

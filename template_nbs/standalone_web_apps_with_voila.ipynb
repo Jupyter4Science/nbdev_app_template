{
 "cells": [
  {
   "cell_type": "markdown",
   "id": "3666aaf5-1d92-4c58-95b6-15852a5dbdd4",
   "metadata": {},
   "source": [
    "# Standalone Web Applications with Voila\n",
    "\n",
    "> In this notebook we demonstrate the power of ipywidgets and Voila. We will create a simple web application and deploy it with Voila."
   ]
  },
  {
   "cell_type": "code",
   "execution_count": null,
   "id": "752823bc-8968-498c-af06-a99ce885d093",
   "metadata": {},
   "outputs": [],
   "source": [
    "# TODO: Create a gif that show lauching the app in a new JupyterLab tab"
   ]
  },
  {
   "cell_type": "code",
   "execution_count": null,
   "id": "06b7fc67-103e-47bd-9038-c4f4926e8874",
   "metadata": {},
   "outputs": [
    {
     "name": "stdout",
     "output_type": "stream",
     "text": [
      "http://775cad671977:8888/?token=b6ed6812dd1d0d3f9ee1ab2697c16f25adccd625247e9952\n"
     ]
    }
   ],
   "source": [
    "# TODO: Add a button that launches a standalone instance of voila in a new browser tab\n",
    "# %%bash\n",
    "# jupyter lab list | egrep -o 'https?://[^ ]+' "
   ]
  },
  {
   "cell_type": "code",
   "execution_count": null,
   "id": "777b044b-939f-4c6f-bfed-f98a5fcdea7b",
   "metadata": {},
   "outputs": [],
   "source": [
    "# TODO: launching the voila server using docker-compose"
   ]
  }
 ],
 "metadata": {
  "kernelspec": {
   "display_name": "Python 3 (ipykernel)",
   "language": "python",
   "name": "python3"
  }
 },
 "nbformat": 4,
 "nbformat_minor": 5
}

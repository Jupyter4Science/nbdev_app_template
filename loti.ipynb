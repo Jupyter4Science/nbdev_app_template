{
 "cells": [
  {
   "cell_type": "code",
   "execution_count": 1,
   "metadata": {
    "jupyter": {
     "source_hidden": true
    },
    "tags": []
   },
   "outputs": [
    {
     "data": {
      "text/html": [
       "<!-- header.html: Notebook-specific CSS and title -->\n",
       "<style>\n",
       ".this_nb_title {\n",
       "    font-weight: bold;\n",
       "    color: steelblue;\n",
       "    background-color: transparent;\n",
       "    font-size: 22px;\n",
       "    border: 0px;\n",
       "    padding: 0px;\n",
       "}\n",
       ".selmono {\n",
       "    font-family: \"Lucida Console\", Monaco, monospace !important;\n",
       "    width: 100%;\n",
       "}\n",
       ".widget-select > select {\n",
       "    font-family: monospace !important;\n",
       "}\n",
       "/* Cause plotly to display \"modebar\" */\n",
       ".container {\n",
       "    min-width: 1200px !important;\n",
       "}\n",
       "</style>\n",
       "<span class=\"this_nb_title\">Land-Ocean Temperature Index</span>\n"
      ],
      "text/plain": [
       "<IPython.core.display.HTML object>"
      ]
     },
     "metadata": {},
     "output_type": "display_data"
    },
    {
     "data": {
      "application/vnd.jupyter.widget-view+json": {
       "model_id": "5674fe780c844159a3b5e94dd774549e",
       "version_major": 2,
       "version_minor": 0
      },
      "text/plain": [
       "Tab(children=(VBox(children=(Accordion(children=(VBox(children=(HTML(value=\"<p>\\n        In the <b>Data</b> ta…"
      ]
     },
     "metadata": {},
     "output_type": "display_data"
    }
   ],
   "source": [
    "from nb import controller\n",
    "controller.run()"
   ]
  }
 ],
 "metadata": {
  "celltoolbar": "Raw Cell Format",
  "kernelspec": {
   "display_name": "Python 3 (ipykernel)",
   "language": "python",
   "name": "python3"
  },
  "language_info": {
   "codemirror_mode": {
    "name": "ipython",
    "version": 3
   },
   "file_extension": ".py",
   "mimetype": "text/x-python",
   "name": "python",
   "nbconvert_exporter": "python",
   "pygments_lexer": "ipython3",
   "version": "3.6.13"
  }
 },
 "nbformat": 4,
 "nbformat_minor": 4
}

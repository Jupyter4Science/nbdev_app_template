{
 "cells": [
  {
   "cell_type": "code",
   "execution_count": 1,
   "metadata": {},
   "outputs": [
    {
     "data": {
      "text/html": [
       "<!-- header.html: Notebook-specific CSS, JS, title -->\n",
       "<style>\n",
       "    :root {\n",
       "        /* Theme colors, darkest (...0) to lightest (...3 */\n",
       "        --jp-brand-color0: #555960 !important;\n",
       "        --jp-brand-color1: #6F727B !important;\n",
       "        --jp-brand-color2: #9D9795 !important;\n",
       "        --jp-brand-color3: #C4BFC0 !important;\n",
       "    }\n",
       "    /* Title sytle: big, with theme colored font */\n",
       "    .this_nb_title {\n",
       "        font-weight: bold;\n",
       "        color: var(--jp-brand-color0);\n",
       "        background-color: transparent;\n",
       "        font-size: 20px;\n",
       "        border: 0px;\n",
       "        padding: 0px;\n",
       "    }\n",
       "    .this_nb_logo {\n",
       "        float: right;\n",
       "        vertical-align: middle;\n",
       "        max-height: 32px;\n",
       "    }\n",
       "    /* Tab sytle: thick tab, them colored text */\n",
       "    .p-TabBar-tabLabel {\n",
       "        font-weight: bold !important;\n",
       "        color: var(--jp-brand-color0) !important;\n",
       "        margin-top: 1em !important;\n",
       "        margin-bottom: 1em !important;\n",
       "    }\n",
       "    /* Section header style: white on then color */\n",
       "    .p-Collapse-header {\n",
       "        color: white !important;\n",
       "        background-color: var(--jp-brand-color2) !important;\n",
       "        padding-top: 3px;\n",
       "        padding-bottom: 3px;\n",
       "        font-weight: normal !important;\n",
       "    }\n",
       "</style>\n",
       "<script>\n",
       "    // Hide jupyter icon and header when in appmode\n",
       "    if (document.getElementById('appmode-leave')) {\n",
       "        var h = document.getElementById('header');\n",
       "        if (h) {\n",
       "            h.style.display = 'none';\n",
       "        }\n",
       "    } else {\n",
       "        var h = document.getElementById('header');\n",
       "        if (h) {\n",
       "            h.style.display = 'block';\n",
       "        }\n",
       "    }\n",
       "</script>\n",
       "<!-- Title and logo -->\n",
       "<span class=\"this_nb_title\">Land-Ocean Temperature Index</span>\n",
       "<img class=this_nb_logo src=\"nb/logo.png\" alt=\"Purdue IT Research Computing\">\n"
      ],
      "text/plain": [
       "<IPython.core.display.HTML object>"
      ]
     },
     "metadata": {},
     "output_type": "display_data"
    },
    {
     "data": {
      "application/vnd.jupyter.widget-view+json": {
       "model_id": "227db28ec74143cfb058014f4cfd71c5",
       "version_major": 2,
       "version_minor": 0
      },
      "text/plain": [
       "Tab(children=(VBox(children=(Accordion(children=(VBox(children=(HTML(value=\"<p>\\n    In the <b>Data</b> tab ab…"
      ]
     },
     "metadata": {},
     "output_type": "display_data"
    },
    {
     "data": {
      "application/vnd.jupyter.widget-view+json": {
       "model_id": "cd91314e7c26460da0afeccb1abefd26",
       "version_major": 2,
       "version_minor": 0
      },
      "text/plain": [
       "Output()"
      ]
     },
     "metadata": {},
     "output_type": "display_data"
    }
   ],
   "source": [
    "from nb.cfg import *\n",
    "\n",
    "# Start MVC objects (to trace into a module, set a breakpoint on corresponding line below) \n",
    "model.start()  # Load data or prepare access to data\n",
    "view.start()  # Build user interface (specify \"log=True\" to debug)\n",
    "ctrl.start()  # Run the app \n"
   ]
  }
 ],
 "metadata": {
  "interpreter": {
   "hash": "191ca7fecc240fb00d18100eb4629d31663762446682db60bbca5ba89181619b"
  },
  "kernelspec": {
   "display_name": "Python 3 (ipykernel)",
   "language": "python",
   "name": "python3"
  },
  "language_info": {
   "codemirror_mode": {
    "name": "ipython",
    "version": 3
   },
   "file_extension": ".py",
   "mimetype": "text/x-python",
   "name": "python",
   "nbconvert_exporter": "python",
   "pygments_lexer": "ipython3",
   "version": "3.8.12"
  }
 },
 "nbformat": 4,
 "nbformat_minor": 4
}

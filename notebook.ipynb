{
 "cells": [
  {
   "cell_type": "code",
   "execution_count": 1,
   "metadata": {},
   "outputs": [
    {
     "data": {
      "text/html": [
       "<!-- custom.html: App-specific style and JavaScript -->\n",
       "<style>\n",
       "    /* NOTE Put custom CSS here to change appearance of app */\n",
       "    :root {\n",
       "        /* Theme colors, darkest (...0) to lightest (...3 */\n",
       "        --jp-brand-color0: #555960 !important;\n",
       "        --jp-brand-color1: #6F727B !important;\n",
       "        --jp-brand-color2: #9D9795 !important;\n",
       "        --jp-brand-color3: #C4BFC0 !important;\n",
       "    }\n",
       "    /* App title: big, with theme-colored font */\n",
       "    .app_title {\n",
       "        font-weight: bold;\n",
       "        color: var(--jp-brand-color0);\n",
       "        background-color: transparent;\n",
       "        font-size: 20px;\n",
       "    }\n",
       "    /* Tabs: thick with bold, theme-colored text */\n",
       "    .p-TabBar-tabLabel {\n",
       "        font-weight: bold !important;\n",
       "        color: var(--jp-brand-color0) !important;\n",
       "        margin-top: 1em !important;\n",
       "        margin-bottom: 1em !important;\n",
       "    }\n",
       "    /* Section headers: white text on theme-color background */\n",
       "    .p-Collapse-header {\n",
       "        color: white !important;\n",
       "        background-color: var(--jp-brand-color2) !important;\n",
       "        padding-top: 3px;\n",
       "        padding-bottom: 3px;\n",
       "        font-weight: normal !important;\n",
       "    }\n",
       "</style>\n",
       "<script>\n",
       "    /* NOTE Put custom JavaScript here to change behavior of app */\n",
       "</script>\n"
      ],
      "text/plain": [
       "<IPython.core.display.HTML object>"
      ]
     },
     "metadata": {},
     "output_type": "display_data"
    },
    {
     "data": {
      "application/vnd.jupyter.widget-view+json": {
       "model_id": "63a55ace1967474b8c2e3cfe14eb5762",
       "version_major": 2,
       "version_minor": 0
      },
      "text/plain": [
       "VBox(children=(HBox(children=(HTML(value='Land-Ocean Temperature Index', _dom_classes=('app_title',)), Image(v…"
      ]
     },
     "metadata": {},
     "output_type": "display_data"
    }
   ],
   "source": [
    "from nb.cfg import model, view, ctrl\n",
    "\n",
    "# Start MVC objects (to trace into a module, set a breakpoint on corresponding line below) \n",
    "model.start()  # Load data or prepare access to data\n",
    "view.start()  # Build user interface (specify \"log=True\" when debugging app)\n",
    "ctrl.start()  # Run the app \n"
   ]
  },
  {
   "cell_type": "code",
   "execution_count": null,
   "metadata": {},
   "outputs": [],
   "source": []
  }
 ],
 "metadata": {
  "interpreter": {
   "hash": "191ca7fecc240fb00d18100eb4629d31663762446682db60bbca5ba89181619b"
  },
  "kernelspec": {
   "display_name": "Python 3 (ipykernel)",
   "language": "python",
   "name": "python3"
  },
  "language_info": {
   "codemirror_mode": {
    "name": "ipython",
    "version": 3
   },
   "file_extension": ".py",
   "mimetype": "text/x-python",
   "name": "python",
   "nbconvert_exporter": "python",
   "pygments_lexer": "ipython3",
   "version": "3.8.12"
  }
 },
 "nbformat": 4,
 "nbformat_minor": 4
}

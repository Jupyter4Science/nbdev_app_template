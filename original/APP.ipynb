{
 "cells": [
  {
   "cell_type": "code",
   "execution_count": null,
   "id": "82ef8f8d-1bb9-4960-ae2f-cd3289e785a6",
   "metadata": {},
   "outputs": [
    {
     "data": {
      "text/html": [
       "<!-- custom.html: App-specific style and JavaScript -->\n",
       "<style>\n",
       "    /* NOTE Put custom CSS here to change appearance of app */\n",
       "    :root {\n",
       "        /* Theme colors, darkest (...0) to lightest (...3 */\n",
       "        --jp-brand-color0: #555960 !important;\n",
       "        --jp-brand-color1: #6F727B !important;\n",
       "        --jp-brand-color2: #9D9795 !important;\n",
       "        --jp-brand-color3: #C4BFC0 !important;\n",
       "    }\n",
       "    /* App title: big, with theme-colored font */\n",
       "    .app_title {\n",
       "        font-weight: bold;\n",
       "        color: var(--jp-brand-color0);\n",
       "        background-color: transparent;\n",
       "        font-size: 20px;\n",
       "    }\n",
       "    /* Tabs: thick with bold, theme-colored text */\n",
       "    .p-TabBar-tabLabel {\n",
       "        font-weight: bold !important;\n",
       "        color: var(--jp-brand-color0) !important;\n",
       "        margin-top: 1em !important;\n",
       "        margin-bottom: 1em !important;\n",
       "    }\n",
       "    /* Section headers: white text on theme-color background */\n",
       "    .p-Collapse-header {\n",
       "        color: white !important;\n",
       "        background-color: var(--jp-brand-color2) !important;\n",
       "        padding-top: 3px;\n",
       "        padding-bottom: 3px;\n",
       "        font-weight: normal !important;\n",
       "    }\n",
       "</style>\n",
       "<script>\n",
       "    /* NOTE Put custom JavaScript here to change behavior of app */\n",
       "</script>\n"
      ],
      "text/plain": [
       "<IPython.core.display.HTML object>"
      ]
     },
     "metadata": {},
     "output_type": "display_data"
    },
    {
     "data": {
      "application/vnd.jupyter.widget-view+json": {
       "model_id": "5f2a764c9fd44d769235651c29c78fbb",
       "version_major": 2,
       "version_minor": 0
      },
      "text/plain": [
       "VBox(children=(HBox(children=(HTML(value='Land-Ocean Temperature Index', _dom_classes=('app_title',)), Image(v…"
      ]
     },
     "metadata": {},
     "output_type": "display_data"
    }
   ],
   "source": [
    "\n",
    "\n",
    "from nb.cfg import model, view, ctrl\n",
    "\n",
    "# Start MVC objects (to trace into a module, set a breakpoint on corresponding line below) \n",
    "model.start()  # Load data or prepare access to data\n",
    "view.start()  # Build user interface (specify \"log=True\" when debugging app)\n",
    "ctrl.start()  # Run the app \n",
    "\n"
   ]
  },
  {
   "cell_type": "code",
   "execution_count": null,
   "id": "0cf81baf-ec03-4cba-9057-ef1bfa036cc7",
   "metadata": {},
   "outputs": [],
   "source": []
  }
 ],
 "metadata": {
  "kernelspec": {
   "display_name": "Python 3 (ipykernel)",
   "language": "python",
   "name": "python3"
  }
 },
 "nbformat": 4,
 "nbformat_minor": 5
}
